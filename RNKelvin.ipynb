{
  "nbformat": 4,
  "nbformat_minor": 0,
  "metadata": {
    "colab": {
      "provenance": []
    },
    "kernelspec": {
      "name": "python3",
      "display_name": "Python 3"
    },
    "language_info": {
      "name": "python"
    }
  },
  "cells": [
    {
      "cell_type": "code",
      "execution_count": null,
      "metadata": {
        "id": "JXPqnYSEK1G8"
      },
      "outputs": [],
      "source": []
    },
    {
      "cell_type": "code",
      "source": [
        "# Practica-IA-02    By::AY_SP\n",
        "#Primera parte: importacion de librerias/bibliotecas\n",
        "import tensorflow as tf\n",
        "import numpy as np\n",
        "\n",
        "#Segunda parte: desarrollo de la practica\n",
        "Mcelsius = np.array([36,40,-6,17,20,66,-1,10], dtype=float)\n",
        "Mkelvin = np.array([309.15,313.15,267.15,290.15,293.15,339.15,272.15,283.15], dtype=float)\n",
        "\n",
        "\n",
        "oculta1 = tf.keras.layers.Dense(units=3, input_shape=[1])\n",
        "oculta2 = tf.keras.layers.Dense(units=3)\n",
        "salida = tf.keras.layers.Dense(units=1)\n",
        "modelo = tf.keras.Sequential([oculta1, oculta2, salida])\n",
        "\n",
        "modelo.compile(\n",
        "    optimizer=tf.keras.optimizers.Adam(0.1),\n",
        "    loss='mean_squared_error'\n",
        ")\n",
        "\n",
        "print(\"Comenzando entrenamiento...\")\n",
        "print(\"|\")\n",
        "print(\"|  |\")\n",
        "print(\"|  |   |\")\n",
        "historial = modelo.fit(Mcelsius, Mkelvin, epochs=500, verbose=False)\n",
        "print(\"|  Modelo entrenado  |\")\n",
        "\n",
        "import matplotlib.pyplot as plt\n",
        "plt.xlabel(\"ciclo de entrenamiento\")\n",
        "plt.ylabel(\"Nivel de error porcentual\")\n",
        "plt.plot(historial.history[\"loss\"])\n",
        "\n",
        "print(\"Predicción\")\n",
        "data = 22\n",
        "resultado = modelo.predict([data])\n",
        "print(\"El resultado de la predicción es: \")\n",
        "print(\"__________________________________________\")\n",
        "print(\"Grados centigrados\"+ \"|\" + \"Grados Kelvin\")\n",
        "print(\"|         \"+str(data)+\"      |\"+str(resultado)+\"|\")\n",
        "print(\"__________________________________________\")\n",
        "\n",
        "#print(\"Calculos internos de las capas\")\n",
        "#print(capa.get_weights())\n",
        "#print(oculta1.get_weights())\n",
        "#print(oculta2.get_weights())\n",
        "#print(salida.get_weights())"
      ],
      "metadata": {
        "id": "-mcSAefV-Ryo"
      },
      "execution_count": null,
      "outputs": []
    }
  ]
}